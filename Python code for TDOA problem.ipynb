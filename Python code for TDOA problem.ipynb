{
 "cells": [
  {
   "cell_type": "code",
   "execution_count": 1,
   "id": "c816a70f",
   "metadata": {},
   "outputs": [
    {
     "name": "stdout",
     "output_type": "stream",
     "text": [
      "0.0012684366625492771\n",
      "(array([0], dtype=int64), array([0], dtype=int64))\n"
     ]
    }
   ],
   "source": [
    "import numpy as np\n",
    "import math\n",
    "sensor_pos=np.array([(50,120),(52.91,-60),(0,50),(20,77.45)])\n",
    "time=np.array([13,8,5,8])\n",
    "c=10\n",
    "\n",
    "\n",
    "\n",
    "err=np.zeros((151,151))\n",
    "for i in range(0,151,1):\n",
    "    for j in range(0,151,1):\n",
    "        for k in range(0,4,1):\n",
    "            err[i][j] += abs( ( math.sqrt( (i-sensor_pos[k][0])**2 + (j-sensor_pos[k][1])**2 ) ) / c - time[k] )\n",
    "            \n",
    "min_err=np.amin(err)\n",
    "\n",
    "print(min_err)\n",
    "\n",
    "print(np.where(err==np.amin(err)))\n",
    "\n",
    "\n",
    "# the min_err is quite low and the point where min occurs has index [0][0] representing the origin"
   ]
  },
  {
   "cell_type": "code",
   "execution_count": null,
   "id": "354cbb10",
   "metadata": {},
   "outputs": [],
   "source": []
  }
 ],
 "metadata": {
  "kernelspec": {
   "display_name": "Python 3 (ipykernel)",
   "language": "python",
   "name": "python3"
  },
  "language_info": {
   "codemirror_mode": {
    "name": "ipython",
    "version": 3
   },
   "file_extension": ".py",
   "mimetype": "text/x-python",
   "name": "python",
   "nbconvert_exporter": "python",
   "pygments_lexer": "ipython3",
   "version": "3.9.7"
  }
 },
 "nbformat": 4,
 "nbformat_minor": 5
}
